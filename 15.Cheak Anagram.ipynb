{
 "cells": [
  {
   "cell_type": "code",
   "execution_count": null,
   "id": "72110280-ead1-4a96-9298-db15f9a199a0",
   "metadata": {},
   "outputs": [],
   "source": [
    "## Cheak Anagram or Not"
   ]
  },
  {
   "cell_type": "code",
   "execution_count": 8,
   "id": "a4c3d161-4cd3-4038-8dbc-01a383b774c4",
   "metadata": {},
   "outputs": [
    {
     "name": "stdout",
     "output_type": "stream",
     "text": [
      "{'s': 1, 'i': 1, 'l': 1, 'e': 1, 'n': 1, 't': 1}\n",
      "{'l': 1, 'i': 1, 's': 1, 't': 1, 'e': 1, 'n': 1}\n",
      "Anagram\n"
     ]
    }
   ],
   "source": [
    "k=\"silent\"\n",
    "k1=\"listen\"\n",
    "d1={}\n",
    "d2={}\n",
    "for i in k:\n",
    "    if i not in d1:\n",
    "        d1[i]=1\n",
    "    else:\n",
    "        d1[i]+=1\n",
    "print(d1)\n",
    "for j in k1:\n",
    "    if j not in d2:\n",
    "        d2[j]=1\n",
    "    else:\n",
    "        d2[j]+=1\n",
    "print(d2)\n",
    "if d1 == d2:\n",
    "    print(\"Anagram\")\n",
    "else :\n",
    "    print(\"Not a Anagram\")"
   ]
  },
  {
   "cell_type": "code",
   "execution_count": 12,
   "id": "03fa70a3-c5c7-4c28-b48a-16bb9af38af8",
   "metadata": {},
   "outputs": [
    {
     "name": "stdin",
     "output_type": "stream",
     "text": [
      "Enter a string dad\n",
      "Enter a string add\n"
     ]
    },
    {
     "name": "stdout",
     "output_type": "stream",
     "text": [
      "{'d': 2, 'a': 1}\n",
      "{'a': 1, 'd': 2}\n",
      "Anagram\n"
     ]
    }
   ],
   "source": [
    "k=input(\"Enter a string\")\n",
    "k1=input(\"Enter a string\")\n",
    "d1={}\n",
    "d2={}\n",
    "for i,j in zip(k,k1):\n",
    "     if i not in d1:\n",
    "        d1[i]=1\n",
    "     else:\n",
    "         d1[i]+=1\n",
    "\n",
    "     if j not in d2:\n",
    "        d2[j]=1\n",
    "     else:\n",
    "        d2[j]+=1\n",
    "\n",
    "print(d1)\n",
    "print(d2)\n",
    "if d1==d2:\n",
    "    print(\"Anagram\")\n",
    "else:\n",
    "    print(\"Not a Anagram\")\n",
    "    "
   ]
  },
  {
   "cell_type": "code",
   "execution_count": null,
   "id": "b048f4e7-6308-4d65-adb1-e1c730b0c5e4",
   "metadata": {},
   "outputs": [],
   "source": []
  }
 ],
 "metadata": {
  "kernelspec": {
   "display_name": "Python [conda env:base] *",
   "language": "python",
   "name": "conda-base-py"
  },
  "language_info": {
   "codemirror_mode": {
    "name": "ipython",
    "version": 3
   },
   "file_extension": ".py",
   "mimetype": "text/x-python",
   "name": "python",
   "nbconvert_exporter": "python",
   "pygments_lexer": "ipython3",
   "version": "3.12.7"
  }
 },
 "nbformat": 4,
 "nbformat_minor": 5
}
